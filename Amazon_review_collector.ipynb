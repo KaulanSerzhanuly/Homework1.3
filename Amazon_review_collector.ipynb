{
  "nbformat": 4,
  "nbformat_minor": 0,
  "metadata": {
    "colab": {
      "provenance": [],
      "authorship_tag": "ABX9TyMwlp3crMWgYvD5DfOfZ45R",
      "include_colab_link": true
    },
    "kernelspec": {
      "name": "python3",
      "display_name": "Python 3"
    },
    "language_info": {
      "name": "python"
    }
  },
  "cells": [
    {
      "cell_type": "markdown",
      "metadata": {
        "id": "view-in-github",
        "colab_type": "text"
      },
      "source": [
        "<a href=\"https://colab.research.google.com/github/KaulanSerzhanuly/Homework1.3/blob/main/Amazon_review_collector.ipynb\" target=\"_parent\"><img src=\"https://colab.research.google.com/assets/colab-badge.svg\" alt=\"Open In Colab\"/></a>"
      ]
    },
    {
      "cell_type": "code",
      "execution_count": 13,
      "metadata": {
        "id": "NYO3BS-CNfy2",
        "colab": {
          "base_uri": "https://localhost:8080/"
        },
        "outputId": "091bd92f-8135-48eb-8bd5-250515f8ab3e"
      },
      "outputs": [
        {
          "output_type": "stream",
          "name": "stdout",
          "text": [
            "Requirement already satisfied: pandas in /usr/local/lib/python3.11/dist-packages (2.2.2)\n",
            "Requirement already satisfied: numpy>=1.23.2 in /usr/local/lib/python3.11/dist-packages (from pandas) (2.0.2)\n",
            "Requirement already satisfied: python-dateutil>=2.8.2 in /usr/local/lib/python3.11/dist-packages (from pandas) (2.9.0.post0)\n",
            "Requirement already satisfied: pytz>=2020.1 in /usr/local/lib/python3.11/dist-packages (from pandas) (2025.2)\n",
            "Requirement already satisfied: tzdata>=2022.7 in /usr/local/lib/python3.11/dist-packages (from pandas) (2025.2)\n",
            "Requirement already satisfied: six>=1.5 in /usr/local/lib/python3.11/dist-packages (from python-dateutil>=2.8.2->pandas) (1.17.0)\n"
          ]
        }
      ],
      "source": [
        "# Install pandas (only need to run once)\n",
        "!pip install pandas"
      ]
    },
    {
      "cell_type": "code",
      "source": [
        "# Import necessary libraries\n",
        "import pandas as pd\n",
        "import zipfile\n",
        "import os"
      ],
      "metadata": {
        "id": "ENRo9AmcUwQf"
      },
      "execution_count": 14,
      "outputs": []
    },
    {
      "cell_type": "code",
      "source": [
        "# Paths\n",
        "zip_path = '/content/test.csv.zip'    # Path to your uploaded zip file\n",
        "extract_path = '/content/data/'        # Directory to extract contents\n",
        "\n",
        "# Set file paths\n",
        "zip_path = '/content/test.csv.zip'\n",
        "extract_path = '/content/data/'\n",
        "\n",
        "# Extract ZIP\n",
        "os.makedirs(extract_path, exist_ok=True)\n",
        "with zipfile.ZipFile(zip_path, 'r') as zip_ref:\n",
        "    zip_ref.extractall(extract_path)"
      ],
      "metadata": {
        "id": "cHK6df-FUzOL"
      },
      "execution_count": 15,
      "outputs": []
    },
    {
      "cell_type": "code",
      "source": [
        "# Find the first CSV in the extracted folder\n",
        "csv_files = [f for f in os.listdir(extract_path) if f.endswith('.csv')]\n",
        "csv_path = os.path.join(extract_path, csv_files[0])\n",
        "\n",
        "# Load the CSV into DataFrame\n",
        "df = pd.read_csv(csv_path)\n",
        "print(f\"✅ Loaded {csv_files[0]} with {df.shape[0]} rows and {df.shape[1]} columns.\")"
      ],
      "metadata": {
        "colab": {
          "base_uri": "https://localhost:8080/"
        },
        "id": "NHkK1h-zU51w",
        "outputId": "fd1389c6-9083-4334-c2d3-2f99510531b9"
      },
      "execution_count": 16,
      "outputs": [
        {
          "output_type": "stream",
          "name": "stdout",
          "text": [
            "✅ Loaded test.csv with 399999 rows and 3 columns.\n"
          ]
        }
      ]
    },
    {
      "cell_type": "code",
      "source": [
        "# Show all column names\n",
        "print(\"🧩 Original columns:\")\n",
        "print(list(df.columns))\n",
        "\n",
        "# Step 1: Choose columns to keep (adjust depending on what you see in your dataset)\n",
        "possible_text_cols = ['reviewText', 'text']\n",
        "possible_title_cols = ['summary', 'title']\n",
        "\n",
        "# Check which columns exist\n",
        "text_col = next((col for col in possible_text_cols if col in df.columns), None)\n",
        "title_col = next((col for col in possible_title_cols if col in df.columns), None)\n",
        "\n",
        "# Optional: Keep only relevant columns\n",
        "columns_to_keep = [col for col in [text_col, title_col, 'rating', 'overall', 'stars', 'asin', 'productId'] if col in df.columns]\n",
        "df = df[columns_to_keep]\n",
        "\n",
        "print(\"\\n✅ Kept columns:\")\n",
        "print(list(df.columns))\n",
        "\n",
        "# Step 2: Drop rows with missing review text or title\n",
        "df_cleaned = df.dropna(subset=[text_col, title_col])\n",
        "\n",
        "print(f\"\\n✅ Cleaned dataset: {df_cleaned.shape[0]} rows remaining after dropping missing values.\")\n"
      ],
      "metadata": {
        "colab": {
          "base_uri": "https://localhost:8080/",
          "height": 458
        },
        "id": "S4JIEKqtU8q_",
        "outputId": "298869bd-75cb-412b-81f1-e590317329e2"
      },
      "execution_count": 17,
      "outputs": [
        {
          "output_type": "stream",
          "name": "stdout",
          "text": [
            "🧩 Original columns:\n",
            "['2', 'Great CD', 'My lovely Pat has one of the GREAT voices of her generation. I have listened to this CD for YEARS and I still LOVE IT. When I\\'m in a good mood it makes me feel better. A bad mood just evaporates like sugar in the rain. This CD just oozes LIFE. Vocals are jusat STUUNNING and lyrics just kill. One of life\\'s hidden gems. This is a desert isle CD in my book. Why she never made it big is just beyond me. Everytime I play this, no matter black, white, young, old, male, female EVERYBODY says one thing \"Who was that singing ?\"']\n",
            "\n",
            "✅ Kept columns:\n",
            "[]\n"
          ]
        },
        {
          "output_type": "error",
          "ename": "KeyError",
          "evalue": "[None, None]",
          "traceback": [
            "\u001b[0;31m---------------------------------------------------------------------------\u001b[0m",
            "\u001b[0;31mKeyError\u001b[0m                                  Traceback (most recent call last)",
            "\u001b[0;32m<ipython-input-17-88e6a759a521>\u001b[0m in \u001b[0;36m<cell line: 0>\u001b[0;34m()\u001b[0m\n\u001b[1;32m     19\u001b[0m \u001b[0;34m\u001b[0m\u001b[0m\n\u001b[1;32m     20\u001b[0m \u001b[0;31m# Step 2: Drop rows with missing review text or title\u001b[0m\u001b[0;34m\u001b[0m\u001b[0;34m\u001b[0m\u001b[0m\n\u001b[0;32m---> 21\u001b[0;31m \u001b[0mdf_cleaned\u001b[0m \u001b[0;34m=\u001b[0m \u001b[0mdf\u001b[0m\u001b[0;34m.\u001b[0m\u001b[0mdropna\u001b[0m\u001b[0;34m(\u001b[0m\u001b[0msubset\u001b[0m\u001b[0;34m=\u001b[0m\u001b[0;34m[\u001b[0m\u001b[0mtext_col\u001b[0m\u001b[0;34m,\u001b[0m \u001b[0mtitle_col\u001b[0m\u001b[0;34m]\u001b[0m\u001b[0;34m)\u001b[0m\u001b[0;34m\u001b[0m\u001b[0;34m\u001b[0m\u001b[0m\n\u001b[0m\u001b[1;32m     22\u001b[0m \u001b[0;34m\u001b[0m\u001b[0m\n\u001b[1;32m     23\u001b[0m \u001b[0mprint\u001b[0m\u001b[0;34m(\u001b[0m\u001b[0;34mf\"\\n✅ Cleaned dataset: {df_cleaned.shape[0]} rows remaining after dropping missing values.\"\u001b[0m\u001b[0;34m)\u001b[0m\u001b[0;34m\u001b[0m\u001b[0;34m\u001b[0m\u001b[0m\n",
            "\u001b[0;32m/usr/local/lib/python3.11/dist-packages/pandas/core/frame.py\u001b[0m in \u001b[0;36mdropna\u001b[0;34m(self, axis, how, thresh, subset, inplace, ignore_index)\u001b[0m\n\u001b[1;32m   6668\u001b[0m             \u001b[0mcheck\u001b[0m \u001b[0;34m=\u001b[0m \u001b[0mindices\u001b[0m \u001b[0;34m==\u001b[0m \u001b[0;34m-\u001b[0m\u001b[0;36m1\u001b[0m\u001b[0;34m\u001b[0m\u001b[0;34m\u001b[0m\u001b[0m\n\u001b[1;32m   6669\u001b[0m             \u001b[0;32mif\u001b[0m \u001b[0mcheck\u001b[0m\u001b[0;34m.\u001b[0m\u001b[0many\u001b[0m\u001b[0;34m(\u001b[0m\u001b[0;34m)\u001b[0m\u001b[0;34m:\u001b[0m\u001b[0;34m\u001b[0m\u001b[0;34m\u001b[0m\u001b[0m\n\u001b[0;32m-> 6670\u001b[0;31m                 \u001b[0;32mraise\u001b[0m \u001b[0mKeyError\u001b[0m\u001b[0;34m(\u001b[0m\u001b[0mnp\u001b[0m\u001b[0;34m.\u001b[0m\u001b[0marray\u001b[0m\u001b[0;34m(\u001b[0m\u001b[0msubset\u001b[0m\u001b[0;34m)\u001b[0m\u001b[0;34m[\u001b[0m\u001b[0mcheck\u001b[0m\u001b[0;34m]\u001b[0m\u001b[0;34m.\u001b[0m\u001b[0mtolist\u001b[0m\u001b[0;34m(\u001b[0m\u001b[0;34m)\u001b[0m\u001b[0;34m)\u001b[0m\u001b[0;34m\u001b[0m\u001b[0;34m\u001b[0m\u001b[0m\n\u001b[0m\u001b[1;32m   6671\u001b[0m             \u001b[0magg_obj\u001b[0m \u001b[0;34m=\u001b[0m \u001b[0mself\u001b[0m\u001b[0;34m.\u001b[0m\u001b[0mtake\u001b[0m\u001b[0;34m(\u001b[0m\u001b[0mindices\u001b[0m\u001b[0;34m,\u001b[0m \u001b[0maxis\u001b[0m\u001b[0;34m=\u001b[0m\u001b[0magg_axis\u001b[0m\u001b[0;34m)\u001b[0m\u001b[0;34m\u001b[0m\u001b[0;34m\u001b[0m\u001b[0m\n\u001b[1;32m   6672\u001b[0m \u001b[0;34m\u001b[0m\u001b[0m\n",
            "\u001b[0;31mKeyError\u001b[0m: [None, None]"
          ]
        }
      ]
    },
    {
      "cell_type": "code",
      "source": [
        "# Preview cleaned dataset\n",
        "print(\"\\n📊 First 5 rows after cleaning:\")\n",
        "display(df_cleaned.head())\n",
        "\n",
        "# Save to CSV if you want to use it later\n",
        "df_cleaned.to_csv('/content/cleaned_reviews.csv', index=False)\n",
        "print(\"✅ Saved cleaned data to 'cleaned_reviews.csv'\")"
      ],
      "metadata": {
        "id": "1Z2vNYiEU-Gs"
      },
      "execution_count": null,
      "outputs": []
    },
    {
      "cell_type": "code",
      "source": [
        "# Print every review one-by-one\n",
        "if 'reviewText' in df.columns:\n",
        "    print(\"\\n📝 All Reviews:\\n\")\n",
        "    for idx, review in enumerate(df['reviewText']):\n",
        "        print(f\"--- Review #{idx+1} ---\")\n",
        "        print(review)\n",
        "        print(\"\\n\")\n",
        "else:\n",
        "    print(\"⚠️ No 'reviewText' column found in the dataset.\")"
      ],
      "metadata": {
        "id": "IVqNH4EnU_m8"
      },
      "execution_count": null,
      "outputs": []
    },
    {
      "cell_type": "code",
      "source": [
        "!git status\n"
      ],
      "metadata": {
        "id": "CLgs35eMXfYI"
      },
      "execution_count": null,
      "outputs": []
    }
  ]
}